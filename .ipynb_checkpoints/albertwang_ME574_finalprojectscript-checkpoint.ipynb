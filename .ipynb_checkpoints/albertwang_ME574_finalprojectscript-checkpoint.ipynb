{
 "cells": [
  {
   "cell_type": "markdown",
   "id": "1b6d8a43",
   "metadata": {},
   "source": [
    "# Bilateral Filter"
   ]
  },
  {
   "cell_type": "code",
   "execution_count": 1,
   "id": "8f607069",
   "metadata": {},
   "outputs": [],
   "source": [
    "import numpy as np\n",
    "import math as math\n",
    "import cv2 as cv\n",
    "import matplotlib.pyplot as plt\n",
    "from time import time"
   ]
  },
  {
   "cell_type": "code",
   "execution_count": 2,
   "id": "b685c848",
   "metadata": {},
   "outputs": [
    {
     "data": {
      "text/plain": [
       "\"\\nfrom google.colab.patches import cv2_imshow\\nfrom google.colab import drive\\ndrive.mount('/gdrive')\\n\\nimport os\\nos.chdir('/gdrive/My Drive/me574_project_images')\\n!ls\\nimg = cv.imread('lena.jpg', cv.IMREAD_UNCHANGED)\\ncv2_imshow(img)\\n\""
      ]
     },
     "execution_count": 2,
     "metadata": {},
     "output_type": "execute_result"
    }
   ],
   "source": [
    "# for google colab file access\n",
    "'''\n",
    "from google.colab.patches import cv2_imshow\n",
    "from google.colab import drive\n",
    "drive.mount('/gdrive')\n",
    "\n",
    "import os\n",
    "os.chdir('/gdrive/My Drive/me574_project_images')\n",
    "!ls\n",
    "img = cv.imread('lena.jpg', cv.IMREAD_UNCHANGED)\n",
    "cv2_imshow(img)\n",
    "'''"
   ]
  },
  {
   "cell_type": "markdown",
   "id": "abbf6191",
   "metadata": {},
   "source": [
    "## Serial Implementation"
   ]
  },
  {
   "cell_type": "markdown",
   "id": "5e0198e8",
   "metadata": {},
   "source": [
    "Utility functions"
   ]
  },
  {
   "cell_type": "code",
   "execution_count": 3,
   "id": "c0121588",
   "metadata": {},
   "outputs": [],
   "source": [
    "def gauss(x,sigma):\n",
    "    return 1/(math.pi*2*sigma**2)*math.exp(-x**2/(2*sigma**2))\n",
    "\n",
    "def distance(x1,y1,x2,y2):\n",
    "    return math.sqrt((x1-x2)**2+(y1-y2)**2)"
   ]
  },
  {
   "cell_type": "markdown",
   "id": "8add0667",
   "metadata": {},
   "source": [
    "Filter function"
   ]
  },
  {
   "cell_type": "code",
   "execution_count": 4,
   "id": "cb0705c1",
   "metadata": {},
   "outputs": [],
   "source": [
    "def bilateral_serial(img, rad, sigma_space, sigma_range):\n",
    "    height = img.shape[0]\n",
    "    width = img.shape[1]\n",
    "    imgout = np.zeros([height,width])\n",
    "    \n",
    "    for row in range(height):\n",
    "        for col in range(width):\n",
    "            weight = 0\n",
    "            contribution = 0\n",
    "            for subrow in range(-rad,rad+1):\n",
    "                stencilrow = row - (rad - subrow)\n",
    "                if (stencilrow < height) and (stencilrow >= 0):\n",
    "                    for subcol in range(-rad,rad+1):\n",
    "                        stencilcol = col - (rad - subcol)\n",
    "                        if (stencilcol < width) and (stencilcol >= 0):\n",
    "                            #print(img[qy,qx]-img[row,col])\n",
    "                            #print('qy =',qy,'qx=',qx)\n",
    "                            gaussrange = gauss(abs(int(img[row,col])-int(img[stencilrow,stencilcol])),sigma_range)\n",
    "                            gaussspace = gauss(distance(stencilrow,stencilcol,row,col),sigma_space)\n",
    "                            w = gaussrange * gaussspace\n",
    "                            contribution += w * int(img[stencilrow,stencilcol])\n",
    "                            weight += w\n",
    "            filteredpix = contribution / weight\n",
    "            imgout[row,col] = int(filteredpix)\n",
    "            \n",
    "    return imgout"
   ]
  },
  {
   "cell_type": "markdown",
   "id": "8c897db2",
   "metadata": {},
   "source": [
    "Image Processing"
   ]
  },
  {
   "cell_type": "code",
   "execution_count": 8,
   "id": "5af1fba2",
   "metadata": {},
   "outputs": [
    {
     "name": "stdout",
     "output_type": "stream",
     "text": [
      "original rows/columns/channels (235, 214, 3)\n",
      "dtype uint8\n",
      "greyscale rows/columns/channels (235, 214)\n",
      "filtered rows/columns/channels (235, 214)\n",
      "\n",
      "\n",
      "serial elapsed time (ms) = 25331.96520805359\n"
     ]
    }
   ],
   "source": [
    "rad = 5\n",
    "sigma_space = 10\n",
    "sigma_range = 20\n",
    "\n",
    "img = cv.imread('cat.jpg') # lena // nba // rocks // cat // eiffel\n",
    "grey = cv.cvtColor(img,cv.COLOR_BGR2GRAY)\n",
    "\n",
    "# greyscale only\n",
    "OpenCV = cv.bilateralFilter(grey, rad, sigma_space, sigma_range)\n",
    "starts = time()\n",
    "filtereds = bilateral_serial(grey, rad, sigma_space, sigma_range)\n",
    "filtereds = cv.normalize(src=filtereds, dst=None,alpha=0,beta=255,norm_type=cv.NORM_MINMAX,dtype=cv.CV_8U)\n",
    "elapseds = (time() - starts) * 1000\n",
    "cv.imwrite(\"filtered.png\",filtereds)\n",
    "\n",
    "print('original rows/columns/channels',img.shape)\n",
    "print('dtype',grey.dtype)\n",
    "print('greyscale rows/columns/channels',grey.shape)\n",
    "print('filtered rows/columns/channels',filtereds.shape)\n",
    "print('\\n\\nserial elapsed time (ms) =',elapseds)\n",
    "\n",
    "cv.imshow('original',img)\n",
    "cv.imshow('grey',grey)\n",
    "cv.imshow('filtered',filtereds)\n",
    "cv.imshow('openCV',OpenCV)\n",
    "if cv.waitKey(): cv.destroyAllWindows()"
   ]
  },
  {
   "cell_type": "code",
   "execution_count": 9,
   "id": "0d69642d",
   "metadata": {},
   "outputs": [
    {
     "name": "stdout",
     "output_type": "stream",
     "text": [
      "\n",
      "serial elapsed time (ms) = 76753.83186340332\n"
     ]
    }
   ],
   "source": [
    "rad = 5\n",
    "sigma_space = 10\n",
    "sigma_range = 20\n",
    "\n",
    "img = cv.imread('cat.jpg') # lena // nba // rocks // cat // eiffel\n",
    "b,g,r = cv.split(img)\n",
    "\n",
    "# colorful only\n",
    "starts = time()\n",
    "newb = bilateral_serial(b,rad,sigma_space,sigma_range)\n",
    "newb = cv.normalize(src=newb, dst=None,alpha=0,beta=255,norm_type=cv.NORM_MINMAX,dtype=cv.CV_8U)\n",
    "newg = bilateral_serial(g,rad,sigma_space,sigma_range)\n",
    "newg = cv.normalize(src=newg, dst=None,alpha=0,beta=255,norm_type=cv.NORM_MINMAX,dtype=cv.CV_8U)\n",
    "newr = bilateral_serial(r,rad,sigma_space,sigma_range)\n",
    "newr = cv.normalize(src=newr, dst=None,alpha=0,beta=255,norm_type=cv.NORM_MINMAX,dtype=cv.CV_8U)\n",
    "filtereds = cv.merge((newb,newg,newr))\n",
    "elapseds = (time() - starts) * 1000\n",
    "print('\\nserial elapsed time (ms) =',elapseds)\n",
    "\n",
    "cv.imwrite(\"filteredcolorful.png\",filtereds)\n",
    "\n",
    "cv.imshow('original',img)\n",
    "cv.imshow('filtered',filtereds)\n",
    "if cv.waitKey(): cv.destroyAllWindows()"
   ]
  },
  {
   "cell_type": "markdown",
   "id": "2fd7e75d",
   "metadata": {},
   "source": [
    "## Parallel Implementation"
   ]
  },
  {
   "cell_type": "code",
   "execution_count": 10,
   "id": "d64a8bcb",
   "metadata": {},
   "outputs": [],
   "source": [
    "import os\n",
    "os.environ['NUMBA_ENABLE_CUDASIM'] = '1' #NOTE: 1 IS A STRING, NOT AN INT"
   ]
  },
  {
   "cell_type": "code",
   "execution_count": 11,
   "id": "5d108742",
   "metadata": {},
   "outputs": [],
   "source": [
    "from numba import cuda,jit,float32"
   ]
  },
  {
   "cell_type": "code",
   "execution_count": 12,
   "id": "44990382",
   "metadata": {},
   "outputs": [],
   "source": [
    "@cuda.jit(device=True)\n",
    "def gaussian(x,sigma):\n",
    "    return 1/(math.pi*2*sigma**2)*math.exp(-x**2/(2*sigma**2))\n",
    "\n",
    "@cuda.jit(device=True)\n",
    "def pixeldist(x1,y1,x2,y2):\n",
    "    return math.sqrt(pow((x1-x2),2)+pow((y1-y2),2))"
   ]
  },
  {
   "cell_type": "code",
   "execution_count": 13,
   "id": "5e396a24",
   "metadata": {},
   "outputs": [],
   "source": [
    "@cuda.jit()\n",
    "def bf_kernel(d_imgout, d_img, d_rad, d_sigmas, d_sigmar):\n",
    "    i,j = cuda.grid(2)\n",
    "    nx, ny = d_img.shape[0], d_img.shape[1]\n",
    "\n",
    "    if (i < nx) and (j < ny):\n",
    "        weight = 0\n",
    "        contribution = 0\n",
    "        for subrow in range(-d_rad,d_rad+1) :\n",
    "            stencilrow = i - (rad - subrow)\n",
    "            if (stencilrow < nx) and (stencilrow >= 0):\n",
    "                for subcol in range(-rad,rad+1):\n",
    "                    stencilcol = j - (rad - subcol)\n",
    "                    if (stencilcol < ny) and (stencilcol >= 0):\n",
    "                        gaussrange = gaussian(abs(int(d_img[i,j])-int(d_img[stencilrow,stencilcol])),d_sigmar)\n",
    "                        diff = pixeldist(float32(stencilrow),float32(stencilcol),float32(i),float32(j))\n",
    "                        gaussspace = gaussian(diff,d_sigmas)\n",
    "                        w = gaussrange * gaussspace\n",
    "                        contribution += w * int(d_img[stencilrow,stencilcol])\n",
    "                        weight += w\n",
    "        filteredpix = contribution / weight\n",
    "        d_imgout[i,j] = 0\n",
    "        d_imgout[i,j] = int(filteredpix)"
   ]
  },
  {
   "cell_type": "code",
   "execution_count": 14,
   "id": "606fe6fd",
   "metadata": {},
   "outputs": [],
   "source": [
    "def bilateral_parallel(img, rad, sigmas, sigmar):\n",
    "    nx, ny = img.shape[0], img.shape[1]\n",
    "    d_img = cuda.to_device(img)\n",
    "    d_imgout = cuda.device_array([nx,ny])\n",
    "    TPB = 32\n",
    "    threads = TPB, TPB\n",
    "    blocks = (nx+TPB-1)//TPB, (ny+TPB-1)//TPB\n",
    "    \n",
    "    startp = cuda.event()\n",
    "    endp = cuda.event()\n",
    "    startp.record()\n",
    "    \n",
    "    bf_kernel[blocks,threads](d_imgout,d_img,rad,sigmas,sigmar)\n",
    "\n",
    "    endp.record()\n",
    "    endp.synchronize()\n",
    "    elapsedp = cuda.event_elapsed_time(startp,endp)\n",
    "    return d_imgout.copy_to_host(),elapsedp"
   ]
  },
  {
   "cell_type": "code",
   "execution_count": 15,
   "id": "d92f13d5",
   "metadata": {},
   "outputs": [
    {
     "ename": "AttributeError",
     "evalue": "module 'numba.cuda' has no attribute 'event_elapsed_time'",
     "output_type": "error",
     "traceback": [
      "\u001b[1;31m---------------------------------------------------------------------------\u001b[0m",
      "\u001b[1;31mAttributeError\u001b[0m                            Traceback (most recent call last)",
      "\u001b[1;32m<ipython-input-15-6405193dc7d0>\u001b[0m in \u001b[0;36m<module>\u001b[1;34m\u001b[0m\n\u001b[0;32m      7\u001b[0m \u001b[1;33m\u001b[0m\u001b[0m\n\u001b[0;32m      8\u001b[0m \u001b[1;31m# greyscale only\u001b[0m\u001b[1;33m\u001b[0m\u001b[1;33m\u001b[0m\u001b[1;33m\u001b[0m\u001b[0m\n\u001b[1;32m----> 9\u001b[1;33m \u001b[0mfilteredp\u001b[0m\u001b[1;33m,\u001b[0m\u001b[0melapsedp\u001b[0m \u001b[1;33m=\u001b[0m \u001b[0mbilateral_parallel\u001b[0m\u001b[1;33m(\u001b[0m\u001b[0mgrey\u001b[0m\u001b[1;33m,\u001b[0m \u001b[0mrad\u001b[0m\u001b[1;33m,\u001b[0m \u001b[0msigma_space\u001b[0m\u001b[1;33m,\u001b[0m \u001b[0msigma_range\u001b[0m\u001b[1;33m)\u001b[0m\u001b[1;33m\u001b[0m\u001b[1;33m\u001b[0m\u001b[0m\n\u001b[0m\u001b[0;32m     10\u001b[0m \u001b[0mfilteredp\u001b[0m \u001b[1;33m=\u001b[0m \u001b[0mcv\u001b[0m\u001b[1;33m.\u001b[0m\u001b[0mnormalize\u001b[0m\u001b[1;33m(\u001b[0m\u001b[0msrc\u001b[0m\u001b[1;33m=\u001b[0m\u001b[0mfilteredp\u001b[0m\u001b[1;33m,\u001b[0m \u001b[0mdst\u001b[0m\u001b[1;33m=\u001b[0m\u001b[1;32mNone\u001b[0m\u001b[1;33m,\u001b[0m\u001b[0malpha\u001b[0m\u001b[1;33m=\u001b[0m\u001b[1;36m0\u001b[0m\u001b[1;33m,\u001b[0m\u001b[0mbeta\u001b[0m\u001b[1;33m=\u001b[0m\u001b[1;36m255\u001b[0m\u001b[1;33m,\u001b[0m\u001b[0mnorm_type\u001b[0m\u001b[1;33m=\u001b[0m\u001b[0mcv\u001b[0m\u001b[1;33m.\u001b[0m\u001b[0mNORM_MINMAX\u001b[0m\u001b[1;33m,\u001b[0m\u001b[0mdtype\u001b[0m\u001b[1;33m=\u001b[0m\u001b[0mcv\u001b[0m\u001b[1;33m.\u001b[0m\u001b[0mCV_8U\u001b[0m\u001b[1;33m)\u001b[0m\u001b[1;33m\u001b[0m\u001b[1;33m\u001b[0m\u001b[0m\n\u001b[0;32m     11\u001b[0m \u001b[0mcv\u001b[0m\u001b[1;33m.\u001b[0m\u001b[0mimwrite\u001b[0m\u001b[1;33m(\u001b[0m\u001b[1;34m\"filteredp.png\"\u001b[0m\u001b[1;33m,\u001b[0m\u001b[0mfilteredp\u001b[0m\u001b[1;33m)\u001b[0m\u001b[1;33m\u001b[0m\u001b[1;33m\u001b[0m\u001b[0m\n",
      "\u001b[1;32m<ipython-input-14-7fa01c6d587e>\u001b[0m in \u001b[0;36mbilateral_parallel\u001b[1;34m(img, rad, sigmas, sigmar)\u001b[0m\n\u001b[0;32m     15\u001b[0m     \u001b[0mendp\u001b[0m\u001b[1;33m.\u001b[0m\u001b[0mrecord\u001b[0m\u001b[1;33m(\u001b[0m\u001b[1;33m)\u001b[0m\u001b[1;33m\u001b[0m\u001b[1;33m\u001b[0m\u001b[0m\n\u001b[0;32m     16\u001b[0m     \u001b[0mendp\u001b[0m\u001b[1;33m.\u001b[0m\u001b[0msynchronize\u001b[0m\u001b[1;33m(\u001b[0m\u001b[1;33m)\u001b[0m\u001b[1;33m\u001b[0m\u001b[1;33m\u001b[0m\u001b[0m\n\u001b[1;32m---> 17\u001b[1;33m     \u001b[0melapsedp\u001b[0m \u001b[1;33m=\u001b[0m \u001b[0mcuda\u001b[0m\u001b[1;33m.\u001b[0m\u001b[0mevent_elapsed_time\u001b[0m\u001b[1;33m(\u001b[0m\u001b[0mstartp\u001b[0m\u001b[1;33m,\u001b[0m\u001b[0mendp\u001b[0m\u001b[1;33m)\u001b[0m\u001b[1;33m\u001b[0m\u001b[1;33m\u001b[0m\u001b[0m\n\u001b[0m\u001b[0;32m     18\u001b[0m     \u001b[1;32mreturn\u001b[0m \u001b[0md_imgout\u001b[0m\u001b[1;33m.\u001b[0m\u001b[0mcopy_to_host\u001b[0m\u001b[1;33m(\u001b[0m\u001b[1;33m)\u001b[0m\u001b[1;33m,\u001b[0m\u001b[0melapsedp\u001b[0m\u001b[1;33m\u001b[0m\u001b[1;33m\u001b[0m\u001b[0m\n",
      "\u001b[1;31mAttributeError\u001b[0m: module 'numba.cuda' has no attribute 'event_elapsed_time'"
     ]
    }
   ],
   "source": [
    "rad = 5\n",
    "sigma_space = 10\n",
    "sigma_range = 20\n",
    "\n",
    "img = cv.imread('cat.jpg') # lena // nba // rocks // cat // eiffel\n",
    "grey = cv.cvtColor(img,cv.COLOR_BGR2GRAY)\n",
    "\n",
    "# greyscale only\n",
    "filteredp,elapsedp = bilateral_parallel(grey, rad, sigma_space, sigma_range)\n",
    "filteredp = cv.normalize(src=filteredp, dst=None,alpha=0,beta=255,norm_type=cv.NORM_MINMAX,dtype=cv.CV_8U)\n",
    "cv.imwrite(\"filteredp.png\",filteredp)\n",
    "print('parallel elapsed time (ms) =',elapsedp)\n",
    "\n",
    "cv.imshow('original',grey)\n",
    "cv.imshow('filtered',filteredp)\n",
    "cv.imshow('residual',img-filteredp)\n",
    "if cv.waitKey(): cv.destroyAllWindows()"
   ]
  },
  {
   "cell_type": "code",
   "execution_count": 16,
   "id": "efd6f707",
   "metadata": {},
   "outputs": [
    {
     "ename": "AttributeError",
     "evalue": "module 'numba.cuda' has no attribute 'event_elapsed_time'",
     "output_type": "error",
     "traceback": [
      "\u001b[1;31m---------------------------------------------------------------------------\u001b[0m",
      "\u001b[1;31mAttributeError\u001b[0m                            Traceback (most recent call last)",
      "\u001b[1;32m<ipython-input-16-dfd81ef5a9c3>\u001b[0m in \u001b[0;36m<module>\u001b[1;34m\u001b[0m\n\u001b[0;32m      7\u001b[0m \u001b[1;33m\u001b[0m\u001b[0m\n\u001b[0;32m      8\u001b[0m \u001b[1;31m# colorful only\u001b[0m\u001b[1;33m\u001b[0m\u001b[1;33m\u001b[0m\u001b[1;33m\u001b[0m\u001b[0m\n\u001b[1;32m----> 9\u001b[1;33m \u001b[0mnewb\u001b[0m\u001b[1;33m,\u001b[0m\u001b[0melapsedpb\u001b[0m \u001b[1;33m=\u001b[0m \u001b[0mbilateral_parallel\u001b[0m\u001b[1;33m(\u001b[0m\u001b[0mb\u001b[0m\u001b[1;33m,\u001b[0m\u001b[0mrad\u001b[0m\u001b[1;33m,\u001b[0m\u001b[0msigma_space\u001b[0m\u001b[1;33m,\u001b[0m\u001b[0msigma_range\u001b[0m\u001b[1;33m)\u001b[0m\u001b[1;33m\u001b[0m\u001b[1;33m\u001b[0m\u001b[0m\n\u001b[0m\u001b[0;32m     10\u001b[0m \u001b[0mnewb\u001b[0m \u001b[1;33m=\u001b[0m \u001b[0mcv\u001b[0m\u001b[1;33m.\u001b[0m\u001b[0mnormalize\u001b[0m\u001b[1;33m(\u001b[0m\u001b[0msrc\u001b[0m\u001b[1;33m=\u001b[0m\u001b[0mnewb\u001b[0m\u001b[1;33m,\u001b[0m \u001b[0mdst\u001b[0m\u001b[1;33m=\u001b[0m\u001b[1;32mNone\u001b[0m\u001b[1;33m,\u001b[0m\u001b[0malpha\u001b[0m\u001b[1;33m=\u001b[0m\u001b[1;36m0\u001b[0m\u001b[1;33m,\u001b[0m\u001b[0mbeta\u001b[0m\u001b[1;33m=\u001b[0m\u001b[1;36m255\u001b[0m\u001b[1;33m,\u001b[0m\u001b[0mnorm_type\u001b[0m\u001b[1;33m=\u001b[0m\u001b[0mcv\u001b[0m\u001b[1;33m.\u001b[0m\u001b[0mNORM_MINMAX\u001b[0m\u001b[1;33m,\u001b[0m\u001b[0mdtype\u001b[0m\u001b[1;33m=\u001b[0m\u001b[0mcv\u001b[0m\u001b[1;33m.\u001b[0m\u001b[0mCV_8U\u001b[0m\u001b[1;33m)\u001b[0m\u001b[1;33m\u001b[0m\u001b[1;33m\u001b[0m\u001b[0m\n\u001b[0;32m     11\u001b[0m \u001b[0mnewg\u001b[0m\u001b[1;33m,\u001b[0m\u001b[0melapsedpg\u001b[0m \u001b[1;33m=\u001b[0m \u001b[0mbilateral_parallel\u001b[0m\u001b[1;33m(\u001b[0m\u001b[0mg\u001b[0m\u001b[1;33m,\u001b[0m\u001b[0mrad\u001b[0m\u001b[1;33m,\u001b[0m\u001b[0msigma_space\u001b[0m\u001b[1;33m,\u001b[0m\u001b[0msigma_range\u001b[0m\u001b[1;33m)\u001b[0m\u001b[1;33m\u001b[0m\u001b[1;33m\u001b[0m\u001b[0m\n",
      "\u001b[1;32m<ipython-input-14-7fa01c6d587e>\u001b[0m in \u001b[0;36mbilateral_parallel\u001b[1;34m(img, rad, sigmas, sigmar)\u001b[0m\n\u001b[0;32m     15\u001b[0m     \u001b[0mendp\u001b[0m\u001b[1;33m.\u001b[0m\u001b[0mrecord\u001b[0m\u001b[1;33m(\u001b[0m\u001b[1;33m)\u001b[0m\u001b[1;33m\u001b[0m\u001b[1;33m\u001b[0m\u001b[0m\n\u001b[0;32m     16\u001b[0m     \u001b[0mendp\u001b[0m\u001b[1;33m.\u001b[0m\u001b[0msynchronize\u001b[0m\u001b[1;33m(\u001b[0m\u001b[1;33m)\u001b[0m\u001b[1;33m\u001b[0m\u001b[1;33m\u001b[0m\u001b[0m\n\u001b[1;32m---> 17\u001b[1;33m     \u001b[0melapsedp\u001b[0m \u001b[1;33m=\u001b[0m \u001b[0mcuda\u001b[0m\u001b[1;33m.\u001b[0m\u001b[0mevent_elapsed_time\u001b[0m\u001b[1;33m(\u001b[0m\u001b[0mstartp\u001b[0m\u001b[1;33m,\u001b[0m\u001b[0mendp\u001b[0m\u001b[1;33m)\u001b[0m\u001b[1;33m\u001b[0m\u001b[1;33m\u001b[0m\u001b[0m\n\u001b[0m\u001b[0;32m     18\u001b[0m     \u001b[1;32mreturn\u001b[0m \u001b[0md_imgout\u001b[0m\u001b[1;33m.\u001b[0m\u001b[0mcopy_to_host\u001b[0m\u001b[1;33m(\u001b[0m\u001b[1;33m)\u001b[0m\u001b[1;33m,\u001b[0m\u001b[0melapsedp\u001b[0m\u001b[1;33m\u001b[0m\u001b[1;33m\u001b[0m\u001b[0m\n",
      "\u001b[1;31mAttributeError\u001b[0m: module 'numba.cuda' has no attribute 'event_elapsed_time'"
     ]
    }
   ],
   "source": [
    "rad = 5\n",
    "sigma_space = 10\n",
    "sigma_range = 20\n",
    "\n",
    "img = cv.imread('cat.jpg') # lena // nba // rocks // cat // eiffel\n",
    "b,g,r = cv.split(img)\n",
    "\n",
    "# colorful only\n",
    "newb,elapsedpb = bilateral_parallel(b,rad,sigma_space,sigma_range)\n",
    "newb = cv.normalize(src=newb, dst=None,alpha=0,beta=255,norm_type=cv.NORM_MINMAX,dtype=cv.CV_8U)\n",
    "newg,elapsedpg = bilateral_parallel(g,rad,sigma_space,sigma_range)\n",
    "newg = cv.normalize(src=newg, dst=None,alpha=0,beta=255,norm_type=cv.NORM_MINMAX,dtype=cv.CV_8U)\n",
    "newr,elapsedpr = bilateral_parallel(r,rad,sigma_space,sigma_range)\n",
    "newr = cv.normalize(src=newr, dst=None,alpha=0,beta=255,norm_type=cv.NORM_MINMAX,dtype=cv.CV_8U)\n",
    "filteredp = cv.merge((newb,newg,newr))\n",
    "print('parallel elapsed time (ms) =',elapsedpb+elapsedpg+elapsedpr)\n",
    "\n",
    "cv.imshow('original',img)\n",
    "cv.imshow('filtered',filteredp)\n",
    "cv.imshow('residual',img-filteredp)\n",
    "if cv.waitKey(): cv.destroyAllWindows()"
   ]
  },
  {
   "cell_type": "code",
   "execution_count": null,
   "id": "6aca535f",
   "metadata": {},
   "outputs": [],
   "source": []
  }
 ],
 "metadata": {
  "kernelspec": {
   "display_name": "Python 3",
   "language": "python",
   "name": "python3"
  },
  "language_info": {
   "codemirror_mode": {
    "name": "ipython",
    "version": 3
   },
   "file_extension": ".py",
   "mimetype": "text/x-python",
   "name": "python",
   "nbconvert_exporter": "python",
   "pygments_lexer": "ipython3",
   "version": "3.8.10"
  }
 },
 "nbformat": 4,
 "nbformat_minor": 5
}
